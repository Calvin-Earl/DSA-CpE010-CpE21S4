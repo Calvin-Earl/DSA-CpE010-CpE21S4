{
  "nbformat": 4,
  "nbformat_minor": 0,
  "metadata": {
    "colab": {
      "provenance": [],
      "authorship_tag": "ABX9TyPIHLPrRduQMObodBG01dMa",
      "include_colab_link": true
    },
    "kernelspec": {
      "name": "python3",
      "display_name": "Python 3"
    },
    "language_info": {
      "name": "python"
    }
  },
  "cells": [
    {
      "cell_type": "markdown",
      "metadata": {
        "id": "view-in-github",
        "colab_type": "text"
      },
      "source": [
        "<a href=\"https://colab.research.google.com/github/Calvin-Earl/DSA-CpE010-CpE21S4/blob/main/exercise1_class_construction.ipynb\" target=\"_parent\"><img src=\"https://colab.research.google.com/assets/colab-badge.svg\" alt=\"Open In Colab\"/></a>"
      ]
    },
    {
      "cell_type": "code",
      "execution_count": 10,
      "metadata": {
        "colab": {
          "base_uri": "https://localhost:8080/"
        },
        "id": "s4hSEpFUmZ6l",
        "outputId": "f0f1b758-681d-459d-e735-f67d51bd2175"
      },
      "outputs": [
        {
          "output_type": "stream",
          "name": "stdout",
          "text": [
            "Enter the value of length: 10\n",
            "Enter the value of width: 22\n",
            "Area: 220\n"
          ]
        }
      ],
      "source": [
        "def rectangle():\n",
        "  length = int(input(\"Enter the measured length: \"))\n",
        "  width = int(input(\"Enter the measured width: \"))\n",
        "  area = length * width\n",
        "  print(\"Area:\", area)\n",
        "\n",
        "rectangle()"
      ]
    }
  ]
}