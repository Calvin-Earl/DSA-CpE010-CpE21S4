{
  "nbformat": 4,
  "nbformat_minor": 0,
  "metadata": {
    "colab": {
      "provenance": [],
      "authorship_tag": "ABX9TyMQPN9rZwt2aoq8JTrjFYzV",
      "include_colab_link": true
    },
    "kernelspec": {
      "name": "python3",
      "display_name": "Python 3"
    },
    "language_info": {
      "name": "python"
    }
  },
  "cells": [
    {
      "cell_type": "markdown",
      "metadata": {
        "id": "view-in-github",
        "colab_type": "text"
      },
      "source": [
        "<a href=\"https://colab.research.google.com/github/Calvin-Earl/DSA-CpE010-CpE21S4/blob/main/Exercise2.ipynb\" target=\"_parent\"><img src=\"https://colab.research.google.com/assets/colab-badge.svg\" alt=\"Open In Colab\"/></a>"
      ]
    },
    {
      "cell_type": "code",
      "execution_count": 23,
      "metadata": {
        "id": "DIeWbds4upLU",
        "colab": {
          "base_uri": "https://localhost:8080/"
        },
        "outputId": "a2899586-e887-4a1a-96e5-8802fb3186f0"
      },
      "outputs": [
        {
          "output_type": "stream",
          "name": "stdout",
          "text": [
            "Area of Rectangle: 10\n",
            "Area of Square: 36\n",
            "Area of Triangle: 14.0\n"
          ]
        }
      ],
      "source": [
        "class Shapes:\n",
        "  def __init__(self, length, width, side, base, height):\n",
        "    self.length = length\n",
        "    self.width = width\n",
        "    self.side = side\n",
        "    self.base = base\n",
        "    self.height = height\n",
        "\n",
        "  def AreaRectangle(self):\n",
        "    return self.length * self.width\n",
        "\n",
        "  def AreaSquare(self):\n",
        "    return self.side ** 2\n",
        "\n",
        "  def AreaTriangle(self):\n",
        "    return 0.5 * self.base * self.height\n",
        "\n",
        "class Rectangle(Shapes):\n",
        "  def __init__(self, length, width):\n",
        "    self.length = length\n",
        "    self.width = width\n",
        "\n",
        "  def Area(self):\n",
        "    return self.AreaRectangle()\n",
        "\n",
        "class Square(Shapes):\n",
        "  def __init__(self, side):\n",
        "    self.side = side\n",
        "\n",
        "  def Area(self):\n",
        "    return self.AreaSquare()\n",
        "\n",
        "class Triangle(Shapes):\n",
        "  def __init__(self, base, height):\n",
        "    self.base = base\n",
        "    self.height = height\n",
        "\n",
        "  def Area(self):\n",
        "    return self.AreaTriangle()\n",
        "\n",
        "rec = Rectangle(2, 5)\n",
        "print(\"Area of Rectangle:\", rec.Area())\n",
        "\n",
        "sq = Square(6)\n",
        "print(\"Area of Square:\", sq.Area())\n",
        "\n",
        "tri = Triangle(4, 7)\n",
        "print(\"Area of Triangle:\", tri.Area())"
      ]
    },
    {
      "cell_type": "code",
      "source": [],
      "metadata": {
        "id": "inrTe8t8U0No"
      },
      "execution_count": null,
      "outputs": []
    }
  ]
}